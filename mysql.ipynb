{
 "cells": [
  {
   "cell_type": "code",
   "execution_count": 6,
   "metadata": {},
   "outputs": [],
   "source": [
    "import mysql.connector   #importing database\n",
    "database = mysql.connector.connect(\n",
    "    host=\"localhost\",\n",
    "    user=\"root\",\n",
    "    password=\"\",\n",
    "    database = \"hotel\"\n",
    "    )\n",
    "db = database.cursor()\n"
   ]
  },
  {
   "cell_type": "code",
   "execution_count": 7,
   "metadata": {},
   "outputs": [
    {
     "name": "stdout",
     "output_type": "stream",
     "text": [
      "[(1, 'buff sekuwa', 400, 2, 800)]\n"
     ]
    }
   ],
   "source": [
    "db.execute(\"SELECT * from bill\")\n",
    "result = db.fetchall()\n",
    "print(result)"
   ]
  },
  {
   "cell_type": "code",
   "execution_count": 9,
   "metadata": {},
   "outputs": [
    {
     "name": "stdout",
     "output_type": "stream",
     "text": [
      "Enter n = 4\n",
      "Enter food item = sausage\n",
      "Enter the price of food item = 50\n",
      "Enter the quantity = 6\n",
      "Enter food item = drumstick\n",
      "Enter the price of food item = 180\n",
      "Enter the quantity = 4\n",
      "Enter food item = momo\n",
      "Enter the price of food item = 200\n",
      "Enter the quantity = 2\n",
      "Enter food item = pizza\n",
      "Enter the price of food item = 800\n",
      "Enter the quantity = 1\n"
     ]
    }
   ],
   "source": [
    "n = int(input(\"Enter n = \"))\n",
    "for i in range(n):\n",
    "    name = input(\"Enter food item = \")\n",
    "    price = int(input(\"Enter the price of food item = \"))\n",
    "    quantity = int(input(\"Enter the quantity = \"))\n",
    "    total = price * quantity\n",
    "    sql = f\"INSERT INTO bill(food_items, price, quantity, total) VALUES ('{name}', '{price}', '{quantity}', '{total}')\"\n",
    "\n",
    "    db.execute(sql)\n",
    "database.commit()\n"
   ]
  },
  {
   "cell_type": "code",
   "execution_count": 10,
   "metadata": {},
   "outputs": [
    {
     "name": "stdout",
     "output_type": "stream",
     "text": [
      "INSERT INTO bill(food_items, price, quantity, total) VALUES ('pizza', '800', '1', '800')\n"
     ]
    }
   ],
   "source": [
    "print(sql)"
   ]
  },
  {
   "cell_type": "code",
   "execution_count": 11,
   "metadata": {},
   "outputs": [],
   "source": [
    "import mysql.connector   #importing database\n",
    "database = mysql.connector.connect(\n",
    "    host=\"localhost\",\n",
    "    user=\"root\",\n",
    "    password=\"\",\n",
    "    database = \"student\"\n",
    "    )\n",
    "db = database.cursor()\n"
   ]
  },
  {
   "cell_type": "code",
   "execution_count": 16,
   "metadata": {},
   "outputs": [
    {
     "name": "stdout",
     "output_type": "stream",
     "text": [
      "Enter n= 2\n",
      "Enter the name of the student = raju\n",
      "Enter the name of the student = shyam\n"
     ]
    }
   ],
   "source": [
    "n = int(input(\"Enter n= \"))\n",
    "for i in range(n):\n",
    "    name = input(\"Enter the name of the student = \")\n",
    "    s = f\"INSERT INTO list(name) VALUES ('{name}')\"\n",
    "    db.execute(s)\n",
    "database.commit()\n"
   ]
  },
  {
   "cell_type": "code",
   "execution_count": null,
   "metadata": {},
   "outputs": [],
   "source": []
  }
 ],
 "metadata": {
  "kernelspec": {
   "display_name": "Python 3",
   "language": "python",
   "name": "python3"
  },
  "language_info": {
   "codemirror_mode": {
    "name": "ipython",
    "version": 3
   },
   "file_extension": ".py",
   "mimetype": "text/x-python",
   "name": "python",
   "nbconvert_exporter": "python",
   "pygments_lexer": "ipython3",
   "version": "3.8.5"
  }
 },
 "nbformat": 4,
 "nbformat_minor": 4
}
