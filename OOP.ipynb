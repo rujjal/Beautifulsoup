{
 "cells": [
  {
   "cell_type": "code",
   "execution_count": 12,
   "metadata": {},
   "outputs": [
    {
     "name": "stdout",
     "output_type": "stream",
     "text": [
      "Enter principal = 1000\n",
      "Enter time = 2\n",
      "Enter rate = 3\n",
      "Simple interest is =  60\n"
     ]
    }
   ],
   "source": [
    "class Calculate:\n",
    "    def SI(self):\n",
    "       SI = (p*t*r)/100\n",
    "       print(\"Simple interest is = \", int(SI))\n",
    "p = int(input(\"Enter principal = \"))\n",
    "t = int(input(\"Enter time = \"))\n",
    "r = int(input(\"Enter rate = \"))\n",
    "obj = Calculate()\n",
    "obj.SI()\n",
    "    \n",
    "        "
   ]
  },
  {
   "cell_type": "code",
   "execution_count": 13,
   "metadata": {},
   "outputs": [
    {
     "name": "stdout",
     "output_type": "stream",
     "text": [
      "Enter principle = 1000\n",
      "Enter time = 2\n",
      "Enter rate = 3\n",
      "Simple interest =  60.0\n"
     ]
    }
   ],
   "source": [
    "class Cal:\n",
    "    def si(self):\n",
    "        p = int(input(\"Enter principle = \"))\n",
    "        t = int(input(\"Enter time = \"))\n",
    "        r = int(input(\"Enter rate = \"))\n",
    "        SI = (p*t*r)/100\n",
    "        print(\"Simple interest = \", SI)\n",
    "a = Cal()\n",
    "a.si()"
   ]
  },
  {
   "cell_type": "code",
   "execution_count": 24,
   "metadata": {},
   "outputs": [
    {
     "name": "stdout",
     "output_type": "stream",
     "text": [
      "Enter length = 4\n",
      "Enter breadth = 5\n",
      "Area =  20\n"
     ]
    }
   ],
   "source": [
    "class Area\n",
    "    def __init__(self):\n",
    "        self.length = l\n",
    "        self.breadth = b\n",
    "    def cal(self):\n",
    "        area = self.length * self.breadth\n",
    "        print(\"Area = \", area)\n",
    "\n",
    "l = int(input(\"Enter length = \"))\n",
    "b = int(input(\"Enter breadth = \"))\n",
    "obj = Area()\n",
    "obj.cal()\n",
    "    "
   ]
  },
  {
   "cell_type": "code",
   "execution_count": 20,
   "metadata": {},
   "outputs": [
    {
     "name": "stdout",
     "output_type": "stream",
     "text": [
      "Enter l =4\n",
      "Enter b = 5\n",
      "Enter h = 6\n",
      "20\n",
      "120\n"
     ]
    }
   ],
   "source": [
    "class Cal:\n",
    "    def __init__(self,l,b,h):\n",
    "        self.l = l\n",
    "        self.b = b\n",
    "        self.h = h\n",
    "    def area(self):\n",
    "        a = self.l*self.b\n",
    "        print(a)\n",
    "    def volume(self):\n",
    "        v = self.l*self.b*self.h\n",
    "        print(v)\n",
    "\n",
    "l =int(input(\"Enter l =\"))\n",
    "b = int(input(\"Enter b = \"))\n",
    "h = int(input(\"Enter h = \"))\n",
    "obj = Cal(l,b,h)\n",
    "obj.area()\n",
    "obj.volume()"
   ]
  },
  {
   "cell_type": "code",
   "execution_count": 27,
   "metadata": {},
   "outputs": [
    {
     "name": "stdout",
     "output_type": "stream",
     "text": [
      "Enter length = 4\n",
      "Enter breadth = 5\n",
      "Enter height = 5\n",
      "Area =  20\n",
      "Volume =  100\n"
     ]
    }
   ],
   "source": [
    "class Area:\n",
    "    def __init__(self):\n",
    "        self.length = l\n",
    "        self.breadth = b\n",
    "        self.h = h\n",
    "    def cal(self):\n",
    "        area = self.length * self.breadth\n",
    "        print(\"Area = \", area)\n",
    "    def vol(self):\n",
    "        volume = self.length*self.breadth*self.h\n",
    "        print(\"Volume = \", volume)\n",
    "\n",
    "\n",
    "l = int(input(\"Enter length = \"))\n",
    "b = int(input(\"Enter breadth = \"))\n",
    "h = int(input(\"Enter height = \"))\n",
    "obj = Area()\n",
    "obj.cal()\n",
    "obj.vol()"
   ]
  },
  {
   "cell_type": "code",
   "execution_count": 30,
   "metadata": {},
   "outputs": [
    {
     "name": "stdout",
     "output_type": "stream",
     "text": [
      "Enter n = 2\n",
      "Enter name = ram\n",
      "Enter age = 44\n",
      "Enter address = bhaktapur\n",
      "Enter phone number = 9842424245\n",
      "Enter name = shyam\n",
      "Enter age = 44\n",
      "Enter address = kathmandu\n",
      "Enter phone number = 9878563235\n",
      "The information are =  ['ram', 44, 'bhaktapur', 9842424245, 'shyam', 44, 'kathmandu', 9878563235]\n"
     ]
    }
   ],
   "source": [
    "n = int(input(\"Enter n = \"))\n",
    "info = []\n",
    "for i in range(n):\n",
    "    name = input(\"Enter name = \")\n",
    "    age = int(input(\"Enter age = \"))\n",
    "    add = input(\"Enter address = \")\n",
    "    phone = int(input(\"Enter phone number = \"))\n",
    "    data = [name,age,add,phone]\n",
    "    info = info + data\n",
    "print(\"The information are = \", info)"
   ]
  },
  {
   "cell_type": "code",
   "execution_count": 2,
   "metadata": {},
   "outputs": [
    {
     "name": "stdout",
     "output_type": "stream",
     "text": [
      "Enter n = 2\n",
      "Enter name = sdf\n",
      "Enter age = 55\n",
      "Enter address = dfd\n",
      "Enter phone number = 515\n",
      "['sdf', 55, 'dfd', 515]\n",
      "Enter name = asf63\n",
      "Enter age = 55\n",
      "Enter address = sdf\n",
      "Enter phone number = 566\n",
      "['sdf', 55, 'dfd', 515, 'asf63', 55, 'sdf', 566]\n"
     ]
    }
   ],
   "source": [
    "class Info:\n",
    "    def data(self):\n",
    "        info = []\n",
    "        for i in range(n):\n",
    "            name = input(\"Enter name = \")\n",
    "            age = int(input(\"Enter age = \"))\n",
    "            add = input(\"Enter address = \")\n",
    "            phone = int(input(\"Enter phone number = \"))\n",
    "            data = [name,age,add,phone]\n",
    "            info = info + data\n",
    "            print(info)\n",
    "n = int(input(\"Enter n = \"))\n",
    "\n",
    "obj = Info()\n",
    "obj.data()\n",
    "\n"
   ]
  },
  {
   "cell_type": "code",
   "execution_count": 8,
   "metadata": {},
   "outputs": [
    {
     "name": "stdout",
     "output_type": "stream",
     "text": [
      "Enter n = 2\n",
      "Enter name = add\n",
      "Enter age = 655\n",
      "Enter address = adas\n",
      "Enter phone number = 54166\n",
      "(('add', 655, 'adas', 54166),)\n",
      "Enter name = adasd\n",
      "Enter age = 55\n",
      "Enter address = adasd\n",
      "Enter phone number = 4564566\n",
      "(('add', 655, 'adas', 54166), ('adasd', 55, 'adasd', 4564566))\n"
     ]
    }
   ],
   "source": [
    "class Info:\n",
    "    def data(self):\n",
    "        info = ()\n",
    "        for i in range(n):\n",
    "            name = input(\"Enter name = \")\n",
    "            age = int(input(\"Enter age = \"))\n",
    "            add = input(\"Enter address = \")\n",
    "            phone = int(input(\"Enter phone number = \"))\n",
    "            data = (name,age,add,phone),\n",
    "            info = info + data\n",
    "            print(info)\n",
    "n = int(input(\"Enter n = \"))\n",
    "\n",
    "obj = Info()\n",
    "obj.data()"
   ]
  },
  {
   "cell_type": "code",
   "execution_count": 7,
   "metadata": {},
   "outputs": [
    {
     "name": "stdout",
     "output_type": "stream",
     "text": [
      "Enter n = 2\n",
      "Enter name = adasd\n",
      "Enter age = 233\n",
      "Enter add = sadasd\n",
      "Enter name = aasdsadas\n",
      "Enter age = 22\n",
      "Enter add = ddsaasdasfa\n",
      "(('adasd', 233, 'sadasd'), ('aasdsadas', 22, 'ddsaasdasfa'))\n"
     ]
    }
   ],
   "source": [
    "info = tuple()\n",
    "n = int(input(\"Enter n = \"))\n",
    "for i in range(n):\n",
    "    name = input(\"Enter name = \")\n",
    "    age = int(input(\"Enter age = \"))\n",
    "    add = input(\"Enter add = \")\n",
    "    data = (name,age,add),\n",
    "    info = info+data\n",
    "    \n",
    "print(info)"
   ]
  },
  {
   "cell_type": "code",
   "execution_count": null,
   "metadata": {},
   "outputs": [],
   "source": []
  }
 ],
 "metadata": {
  "kernelspec": {
   "display_name": "Python 3",
   "language": "python",
   "name": "python3"
  },
  "language_info": {
   "codemirror_mode": {
    "name": "ipython",
    "version": 3
   },
   "file_extension": ".py",
   "mimetype": "text/x-python",
   "name": "python",
   "nbconvert_exporter": "python",
   "pygments_lexer": "ipython3",
   "version": "3.8.5"
  }
 },
 "nbformat": 4,
 "nbformat_minor": 4
}
