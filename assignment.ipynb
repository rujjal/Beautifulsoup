{
 "cells": [
  {
   "cell_type": "code",
   "execution_count": 1,
   "metadata": {},
   "outputs": [
    {
     "name": "stdout",
     "output_type": "stream",
     "text": [
      "enter n = 3\n",
      "enter name = layla\n",
      "enter marks of phy = 44\n",
      "enter marks of che = 55\n",
      "enter marks of bio = 66\n",
      "enter name = franco\n",
      "enter marks of phy = 55\n",
      "enter marks of che = 66\n",
      "enter marks of bio = 44\n",
      "enter name = johnson\n",
      "enter marks of phy = 88\n",
      "enter marks of che = 56\n",
      "enter marks of bio = 54\n",
      "The results of  3 students are\n",
      "['layla', 44, 55, 66, 165, 55.00000000000001, 5]\n",
      "['franco', 55, 66, 44, 165, 55.00000000000001, 5]\n",
      "['johnson', 88, 56, 54, 198, 66.0, 6]\n",
      "Enter the name to search result = layla\n",
      "['layla', 44, 55, 66, 165, 55.00000000000001, 5]\n"
     ]
    }
   ],
   "source": [
    "def total_marks(a,b,c):\n",
    "    total = a+b+c\n",
    "    return total\n",
    "info = []\n",
    "n = int(input(\"enter n = \"))\n",
    "for i in range(n):\n",
    "    name = input(\"enter name = \")\n",
    "    phy = int(input(\"enter marks of phy = \"))\n",
    "    che = int(input(\"enter marks of che = \"))\n",
    "    bio = int(input(\"enter marks of bio = \"))\n",
    "    total_marks(phy,che,bio)\n",
    "    per = (total_marks(phy,che,bio)/300)*100\n",
    "    grade = int(per/9.5)\n",
    "    data = [name,phy,che,bio,total_marks(phy,che,bio),per,grade]\n",
    "    info.append(data) \n",
    "print(\"The results of \", n , \"students are\")\n",
    "for i in info:\n",
    "    print(i)\n",
    "\n",
    "index = []\n",
    "name = input(\"Enter the name to search result = \")\n",
    "for i in range(len(info)):\n",
    "    if name in info[i][0]:\n",
    "        index.append(i)\n",
    "if len(index)==0:\n",
    "    print(\"No\")\n",
    "else:\n",
    "    a = index[0]\n",
    "    print(info[a])"
   ]
  },
  {
   "cell_type": "code",
   "execution_count": 6,
   "metadata": {},
   "outputs": [
    {
     "name": "stdout",
     "output_type": "stream",
     "text": [
      "Enter n = 2\n",
      "Enter name = apple\n",
      "Enter price = 22\n",
      "Enter quantity = 3\n",
      "Enter name = banana\n",
      "Enter price = 5\n",
      "Enter quantity = 1\n",
      "[['apple', 22, 3, 594], ['banana', 5, 1, 594]]\n"
     ]
    }
   ],
   "source": [
    "info = []\n",
    "net_total = 0\n",
    "n = int(input(\"Enter n = \"))\n",
    "def calc(a,b):\n",
    "    total = a + b\n",
    "    return total\n",
    "    \n",
    "for i in range(n):\n",
    "    name = input(\"Enter name = \")\n",
    "    price = int(input(\"Enter price = \"))\n",
    "    quantity = int(input(\"Enter quantity = \"))\n",
    "    calc(price,quantity)\n",
    "    data = [name,price,quantity,total]\n",
    "    info.append(data)\n",
    "    net_total = net_total+total\n",
    "print(info)"
   ]
  },
  {
   "cell_type": "code",
   "execution_count": 17,
   "metadata": {},
   "outputs": [
    {
     "name": "stdout",
     "output_type": "stream",
     "text": [
      "Enter n = 2\n",
      "Enter the product name = aaa\n",
      "Enter the price = 100\n",
      "Enter the quantity = 2\n",
      "Enter the product name = bbb\n",
      "Enter the price = 300\n",
      "Enter the quantity = 2\n",
      "The products are : \n",
      "('aaa', 100, 2, 200)\n",
      "('bbb', 300, 2, 600)\n",
      "The total price is :  800\n",
      "Enter name of the product = bbb\n",
      "('bbb', 300, 2, 600)\n"
     ]
    }
   ],
   "source": [
    "info = []\n",
    "n = int(input(\"Enter n = \"))\n",
    "net_total = 0\n",
    "def calc(a,b):\n",
    "    total = a * b\n",
    "    return total\n",
    "for i in range(n):\n",
    "    name = input(\"Enter the product name = \")\n",
    "    price = int(input(\"Enter the price = \"))\n",
    "    qty = int(input(\"Enter the quantity = \"))\n",
    "    total = calc(price,qty)\n",
    "    data = (name,price,qty,total)\n",
    "    info.append(data)\n",
    "    net_total += total\n",
    "print(\"The products are : \")\n",
    "for i in info:\n",
    "    print(i)\n",
    "print(\"The total price is : \",net_total)\n",
    "name = input(\"Enter name of the product = \")\n",
    "index = []\n",
    "for i in range(len(info)):\n",
    "    if name in info[i][0]:\n",
    "        index.append(i)\n",
    "if len(index)==0:\n",
    "    print(\"No\")\n",
    "else:\n",
    "    a = index[0]\n",
    "    print(info[a])\n"
   ]
  },
  {
   "cell_type": "code",
   "execution_count": null,
   "metadata": {},
   "outputs": [],
   "source": []
  }
 ],
 "metadata": {
  "kernelspec": {
   "display_name": "Python 3",
   "language": "python",
   "name": "python3"
  },
  "language_info": {
   "codemirror_mode": {
    "name": "ipython",
    "version": 3
   },
   "file_extension": ".py",
   "mimetype": "text/x-python",
   "name": "python",
   "nbconvert_exporter": "python",
   "pygments_lexer": "ipython3",
   "version": "3.8.5"
  }
 },
 "nbformat": 4,
 "nbformat_minor": 4
}
